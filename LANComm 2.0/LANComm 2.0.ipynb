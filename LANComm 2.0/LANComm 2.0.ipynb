{
 "cells": [
  {
   "cell_type": "markdown",
   "id": "80c03e7f-5e05-447b-b560-7b7d0048a862",
   "metadata": {},
   "source": [
    "# Libraries:\n",
    "https://pymotw.com/2/socket/multicast.html"
   ]
  },
  {
   "cell_type": "code",
   "execution_count": 1,
   "id": "ea8ad563-1d03-4054-833b-0fea4c20350b",
   "metadata": {},
   "outputs": [],
   "source": [
    "import socket\n",
    "import netifaces\n",
    "import struct\n",
    "import json"
   ]
  },
  {
   "cell_type": "markdown",
   "id": "6f7c077d-3696-4d20-a252-0fef96829d96",
   "metadata": {},
   "source": [
    "# Functions:"
   ]
  },
  {
   "cell_type": "code",
   "execution_count": 5,
   "id": "303c2f01-1ff4-49de-8efd-492992245b2d",
   "metadata": {},
   "outputs": [],
   "source": [
    "def getComputerInfo():\n",
    "    macAddresses = list(\n",
    "        filter(\n",
    "            None,\n",
    "            [netifaces.ifaddresses(interface)[netifaces.AF_LINK][0]['addr']\n",
    "             for interface\n",
    "             in netifaces.interfaces()\n",
    "            ]\n",
    "        )\n",
    "    )\n",
    "    computerName = socket.gethostname()\n",
    "    ipAddress = socket.gethostbyname(computerName)\n",
    "    \n",
    "    return {\n",
    "        computerName : {\n",
    "            \"Mac Addresses\" : macAddresses,\n",
    "            \"IP Address\" : ipAddress\n",
    "        }\n",
    "    }"
   ]
  },
  {
   "cell_type": "markdown",
   "id": "d999d981-1ed1-43f8-9bbc-3644f7a5f88b",
   "metadata": {},
   "source": [
    "# Mutlicast:"
   ]
  },
  {
   "cell_type": "markdown",
   "id": "afdf9bf3-36f9-4e4b-ab68-06a18b23d3f6",
   "metadata": {},
   "source": [
    "## Sender:"
   ]
  },
  {
   "cell_type": "code",
   "execution_count": 7,
   "id": "f770b763-f236-4a11-8ee1-ace19fdbeb15",
   "metadata": {},
   "outputs": [],
   "source": [
    "multicast_group = (\"224.3.29.71\",10000)\n",
    "\n",
    "# Create datagram socket\n",
    "sock = socket.socket(socket.AF_INET, \n",
    "                     socket.SOCK_DGRAM)\n",
    "\n",
    "# Set timeout\n",
    "sock.settimeout(0.2)\n",
    "\n",
    "# Set time-to-live\n",
    "ttl = struct.pack('b', 1)\n",
    "sock.setsockopt(socket.IPPROTO_IP, \n",
    "                socket.IP_MULTICAST_TTL, \n",
    "                ttl)\n",
    "\n",
    "data = bytes(str(getComputerInfo()), \"utf-8\")\n",
    "\n",
    "try:\n",
    "    \n",
    "    sent = sock.sendto(data, multicast_group)\n",
    "    \n",
    "    # Look for responses from all recipients\n",
    "    while True:\n",
    "        try:\n",
    "            data, address = sock.recvfrom(1024)\n",
    "            foreignComputerData = json.loads(data.decode(\"utf-8\").replace(\"'\",'\"'))\n",
    "            print(foreignComputerData)\n",
    "            \n",
    "        except socket.timeout:\n",
    "            break\n",
    "finally:\n",
    "    sock.close()"
   ]
  },
  {
   "cell_type": "markdown",
   "id": "9022ba18-ad6b-4c07-bdb6-11e2bddb736b",
   "metadata": {},
   "source": [
    "# Receiver:"
   ]
  },
  {
   "cell_type": "code",
   "execution_count": null,
   "id": "5f072fcc-6250-4947-ba0e-0ae504735965",
   "metadata": {},
   "outputs": [],
   "source": [
    "multicast_group = \"224.3.29.71\"\n",
    "server_address = (\"\", 10000)\n",
    "\n",
    "# Create datagram socket\n",
    "sock = socket.socket(socket.AF_INET, \n",
    "                     socket.SOCK_DGRAM)\n",
    "\n",
    "# Bind to server address\n",
    "sock.bind(server_address)\n",
    "\n",
    "# Tell the OS to add socket to multicasr groupon all interfaces\n",
    "group = socket.inet_aton(multicast_group)\n",
    "mreq = struct.pack(\"4sL\", group, socket.INADDR_ANY)\n",
    "sock.setsockopt(socket.IPPROTO_IP, \n",
    "                socket.IP_ADD_MEMBERSHIP, \n",
    "                mreq)\n",
    "\n",
    "# Receive/respond loop\n",
    "while True:\n",
    "    data, address = sock.recvfrom(1024)\n",
    "    foreignComputerData = json.loads(data.decode(\"utf-8\").replace(\"'\",'\"'))\n",
    "    print(foreignComputerData)\n",
    "    data = bytes(str(getComputerInfo()),\"utf-8\")\n",
    "    sock.sendto(data, address)"
   ]
  },
  {
   "cell_type": "markdown",
   "id": "48a8ab0c-d2a8-4e98-a696-db2b1076f64b",
   "metadata": {},
   "source": [
    "# Server:"
   ]
  },
  {
   "cell_type": "code",
   "execution_count": 4,
   "id": "acd034f8-928e-4fc4-bde0-3199fea339ed",
   "metadata": {},
   "outputs": [
    {
     "ename": "OSError",
     "evalue": "[WinError 10048] Only one usage of each socket address (protocol/network address/port) is normally permitted",
     "output_type": "error",
     "traceback": [
      "\u001b[1;31m---------------------------------------------------------------------------\u001b[0m",
      "\u001b[1;31mOSError\u001b[0m                                   Traceback (most recent call last)",
      "\u001b[1;32m<ipython-input-4-877fda6d3457>\u001b[0m in \u001b[0;36m<module>\u001b[1;34m\u001b[0m\n\u001b[0;32m      8\u001b[0m         \u001b[0ms\u001b[0m\u001b[1;33m.\u001b[0m\u001b[0msendto\u001b[0m\u001b[1;33m(\u001b[0m\u001b[0mbytes\u001b[0m\u001b[1;33m(\u001b[0m\u001b[0mmsg\u001b[0m\u001b[1;33m,\u001b[0m\u001b[1;34m\"UTF-8\"\u001b[0m\u001b[1;33m)\u001b[0m\u001b[1;33m,\u001b[0m \u001b[0mIP\u001b[0m\u001b[1;33m)\u001b[0m\u001b[1;33m\u001b[0m\u001b[1;33m\u001b[0m\u001b[0m\n\u001b[0;32m      9\u001b[0m         \u001b[1;32mbreak\u001b[0m\u001b[1;33m\u001b[0m\u001b[1;33m\u001b[0m\u001b[0m\n\u001b[1;32m---> 10\u001b[1;33m \u001b[0mmain\u001b[0m\u001b[1;33m(\u001b[0m\u001b[1;34m\"192.168.1.155\"\u001b[0m\u001b[1;33m)\u001b[0m\u001b[1;33m\u001b[0m\u001b[1;33m\u001b[0m\u001b[0m\n\u001b[0m",
      "\u001b[1;32m<ipython-input-4-877fda6d3457>\u001b[0m in \u001b[0;36mmain\u001b[1;34m(IP)\u001b[0m\n\u001b[0;32m      1\u001b[0m \u001b[1;32mdef\u001b[0m \u001b[0mmain\u001b[0m\u001b[1;33m(\u001b[0m\u001b[0mIP\u001b[0m\u001b[1;33m)\u001b[0m\u001b[1;33m:\u001b[0m\u001b[1;33m\u001b[0m\u001b[1;33m\u001b[0m\u001b[0m\n\u001b[0;32m      2\u001b[0m     \u001b[0ms\u001b[0m \u001b[1;33m=\u001b[0m \u001b[0msocket\u001b[0m\u001b[1;33m.\u001b[0m\u001b[0msocket\u001b[0m\u001b[1;33m(\u001b[0m\u001b[0msocket\u001b[0m\u001b[1;33m.\u001b[0m\u001b[0mAF_INET\u001b[0m\u001b[1;33m,\u001b[0m\u001b[0msocket\u001b[0m\u001b[1;33m.\u001b[0m\u001b[0mSOCK_STREAM\u001b[0m\u001b[1;33m)\u001b[0m\u001b[1;33m\u001b[0m\u001b[1;33m\u001b[0m\u001b[0m\n\u001b[1;32m----> 3\u001b[1;33m     \u001b[0ms\u001b[0m\u001b[1;33m.\u001b[0m\u001b[0mbind\u001b[0m\u001b[1;33m(\u001b[0m\u001b[1;33m(\u001b[0m\u001b[0mIP\u001b[0m\u001b[1;33m,\u001b[0m\u001b[1;36m2142\u001b[0m\u001b[1;33m)\u001b[0m\u001b[1;33m)\u001b[0m\u001b[1;33m\u001b[0m\u001b[1;33m\u001b[0m\u001b[0m\n\u001b[0m\u001b[0;32m      4\u001b[0m     \u001b[0ms\u001b[0m\u001b[1;33m.\u001b[0m\u001b[0mlisten\u001b[0m\u001b[1;33m(\u001b[0m\u001b[1;36m5\u001b[0m\u001b[1;33m)\u001b[0m\u001b[1;33m\u001b[0m\u001b[1;33m\u001b[0m\u001b[0m\n\u001b[0;32m      5\u001b[0m     \u001b[1;32mwhile\u001b[0m \u001b[1;32mTrue\u001b[0m\u001b[1;33m:\u001b[0m\u001b[1;33m\u001b[0m\u001b[1;33m\u001b[0m\u001b[0m\n",
      "\u001b[1;31mOSError\u001b[0m: [WinError 10048] Only one usage of each socket address (protocol/network address/port) is normally permitted"
     ]
    }
   ],
   "source": [
    "def main(IP):\n",
    "    s = socket.socket(socket.AF_INET,socket.SOCK_STREAM)\n",
    "    s.bind((IP,2142))\n",
    "    s.listen(5)\n",
    "    while True:\n",
    "        clientsocket, address = s.accept()\n",
    "        msg = input(\">>> \")\n",
    "        s.sendto(bytes(msg,\"UTF-8\"), IP)\n",
    "        break\n",
    "main(\"192.168.1.155\")"
   ]
  },
  {
   "cell_type": "markdown",
   "id": "ad8a4162-b3e3-46ae-a173-70c21e545971",
   "metadata": {},
   "source": [
    "# Client:"
   ]
  },
  {
   "cell_type": "code",
   "execution_count": 5,
   "id": "f5506acf-6d12-43ef-87a7-4e14f292cb79",
   "metadata": {},
   "outputs": [],
   "source": [
    "def main(IP):\n",
    "    HEADERSIZE = 10\n",
    "    s = socket.socket(socket.AF_INET,socket.SOCK_STREAM)\n",
    "    s.connect((IP,2142))\n",
    "    \n",
    "    msg = s.recv(16)\n",
    "    msg = msg.decode(\"utf-8\")\n",
    "    print (msg)\n",
    "main(\"192.168.1.155\")"
   ]
  },
  {
   "cell_type": "code",
   "execution_count": null,
   "id": "85884a27-b5fa-468d-a0e0-350ebe65fbc0",
   "metadata": {},
   "outputs": [],
   "source": []
  }
 ],
 "metadata": {
  "kernelspec": {
   "display_name": "Python 3",
   "language": "python",
   "name": "python3"
  },
  "language_info": {
   "codemirror_mode": {
    "name": "ipython",
    "version": 3
   },
   "file_extension": ".py",
   "mimetype": "text/x-python",
   "name": "python",
   "nbconvert_exporter": "python",
   "pygments_lexer": "ipython3",
   "version": "3.8.8"
  }
 },
 "nbformat": 4,
 "nbformat_minor": 5
}
