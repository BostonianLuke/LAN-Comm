{
 "cells": [
  {
   "cell_type": "markdown",
   "id": "a0b70ee5-fa88-4e8a-a8a4-7b327b4eafda",
   "metadata": {},
   "source": [
    "https://stackoverflow.com/questions/1750803/obtain-mac-address-from-devices-using-python"
   ]
  },
  {
   "cell_type": "code",
   "execution_count": null,
   "id": "323d1190-f836-4834-a576-54a3fbddad13",
   "metadata": {},
   "outputs": [],
   "source": [
    "from scapy.all import *\n",
    "\n",
    "ans,unans = arping(\"192.168.0.0/24\", verbose=0)\n",
    "for s,r in ans:\n",
    "    print(\"{} {}\".format(r[Ether].src,s[ARP].pdst))"
   ]
  }
 ],
 "metadata": {
  "kernelspec": {
   "display_name": "Python 3",
   "language": "python",
   "name": "python3"
  },
  "language_info": {
   "codemirror_mode": {
    "name": "ipython",
    "version": 3
   },
   "file_extension": ".py",
   "mimetype": "text/x-python",
   "name": "python",
   "nbconvert_exporter": "python",
   "pygments_lexer": "ipython3",
   "version": "3.8.8"
  }
 },
 "nbformat": 4,
 "nbformat_minor": 5
}
