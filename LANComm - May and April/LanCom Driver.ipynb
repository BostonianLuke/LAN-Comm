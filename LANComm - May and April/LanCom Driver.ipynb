{
 "cells": [
  {
   "cell_type": "code",
   "execution_count": 163,
   "id": "6b08b5b7-1a0b-4768-bdc2-7008f9774837",
   "metadata": {},
   "outputs": [],
   "source": [
    "import subprocess\n",
    "import socket\n",
    "import re"
   ]
  },
  {
   "cell_type": "code",
   "execution_count": 164,
   "id": "c56388f1-1ee8-4a69-a72f-f6e01ba28e19",
   "metadata": {},
   "outputs": [],
   "source": [
    "pcName = socket.gethostname()\n",
    "ipAddress = socket.gethostbyname(pcName)"
   ]
  },
  {
   "cell_type": "code",
   "execution_count": 165,
   "id": "8402d1e4-02f2-4c5f-8d9a-e1c895dcf514",
   "metadata": {},
   "outputs": [],
   "source": [
    "arpResult = subprocess.run(f\"arp -a\",capture_output=True).stdout.splitlines()\n",
    "arpMatrix = [re.findall(r'\\w+(?:.\\w+)+',result.decode(\"utf-8\"))[:-1] for result in arpResult]"
   ]
  },
  {
   "cell_type": "code",
   "execution_count": 162,
   "id": "3b012f55-6325-480d-bbfc-7ab3289b9c21",
   "metadata": {},
   "outputs": [
    {
     "data": {
      "text/plain": [
       "[[],\n",
       " ['Interface', '192.168.1.160'],\n",
       " ['Internet Address', 'Physical Address'],\n",
       " ['192.168.1.1', '3c-bd-c5-77-c2-bd'],\n",
       " ['192.168.1.101', 'b8-f8-53-4b-b5-9c'],\n",
       " ['192.168.1.163', 'f8-89-d2-8a-e1-b1'],\n",
       " ['192.168.1.255', 'ff-ff-ff-ff-ff-ff'],\n",
       " ['224.0.0.22', '01-00-5e-00-00-16'],\n",
       " ['224.0.0.251', '01-00-5e-00-00-fb'],\n",
       " ['224.0.0.252', '01-00-5e-00-00-fc'],\n",
       " ['239.255.255.250', '01-00-5e-7f-ff-fa'],\n",
       " ['255.255.255.255', 'ff-ff-ff-ff-ff-ff'],\n",
       " [],\n",
       " ['Interface', '172.20.176.1'],\n",
       " ['Internet Address', 'Physical Address'],\n",
       " ['172.20.191.255', 'ff-ff-ff-ff-ff-ff'],\n",
       " ['224.0.0.22', '01-00-5e-00-00-16'],\n",
       " ['224.0.0.251', '01-00-5e-00-00-fb'],\n",
       " ['239.255.255.250', '01-00-5e-7f-ff-fa'],\n",
       " ['255.255.255.255', 'ff-ff-ff-ff-ff-ff']]"
      ]
     },
     "execution_count": 162,
     "metadata": {},
     "output_type": "execute_result"
    }
   ],
   "source": [
    "arpMatrix"
   ]
  },
  {
   "cell_type": "code",
   "execution_count": 153,
   "id": "87adcd27-c2ca-48de-87f9-c3bd5f521d1d",
   "metadata": {},
   "outputs": [
    {
     "ename": "TypeError",
     "evalue": "gethostname() takes no arguments (1 given)",
     "output_type": "error",
     "traceback": [
      "\u001b[1;31m---------------------------------------------------------------------------\u001b[0m",
      "\u001b[1;31mTypeError\u001b[0m                                 Traceback (most recent call last)",
      "\u001b[1;32m<ipython-input-153-3d499bccaeb1>\u001b[0m in \u001b[0;36m<module>\u001b[1;34m\u001b[0m\n\u001b[1;32m----> 1\u001b[1;33m \u001b[0msocket\u001b[0m\u001b[1;33m.\u001b[0m\u001b[0mgethostname\u001b[0m\u001b[1;33m(\u001b[0m\u001b[0mipAddress\u001b[0m\u001b[1;33m)\u001b[0m\u001b[1;33m\u001b[0m\u001b[1;33m\u001b[0m\u001b[0m\n\u001b[0m",
      "\u001b[1;31mTypeError\u001b[0m: gethostname() takes no arguments (1 given)"
     ]
    }
   ],
   "source": [
    "socket.gethostname(ipAddress)"
   ]
  },
  {
   "cell_type": "code",
   "execution_count": 158,
   "id": "251adc14-8204-477e-be38-0d3c5e804ac2",
   "metadata": {},
   "outputs": [],
   "source": [
    "def FindHostName(ipAddr):\n",
    "    try:\n",
    "        return socket.gethostbyaddr(ipAddr)\n",
    "    except socket.error:\n",
    "        return 'No Host Name'"
   ]
  },
  {
   "cell_type": "code",
   "execution_count": 175,
   "id": "ac6a2b53-5c25-4f82-accf-fb637d9112ef",
   "metadata": {},
   "outputs": [
    {
     "data": {
      "text/plain": [
       "('DESKTOP-HT6J23J', [], ['192.168.1.158'])"
      ]
     },
     "execution_count": 175,
     "metadata": {},
     "output_type": "execute_result"
    }
   ],
   "source": [
    "FindHostName('192.168.1.158')"
   ]
  },
  {
   "cell_type": "code",
   "execution_count": null,
   "id": "341b7ff6-b1ae-481e-9af7-6b52b129edf9",
   "metadata": {},
   "outputs": [],
   "source": []
  }
 ],
 "metadata": {
  "kernelspec": {
   "display_name": "Python 3",
   "language": "python",
   "name": "python3"
  },
  "language_info": {
   "codemirror_mode": {
    "name": "ipython",
    "version": 3
   },
   "file_extension": ".py",
   "mimetype": "text/x-python",
   "name": "python",
   "nbconvert_exporter": "python",
   "pygments_lexer": "ipython3",
   "version": "3.8.8"
  }
 },
 "nbformat": 4,
 "nbformat_minor": 5
}
